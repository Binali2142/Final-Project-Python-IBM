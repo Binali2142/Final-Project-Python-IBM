{
  "cells": [
    {
      "cell_type": "markdown",
      "metadata": {
        "id": "view-in-github",
        "colab_type": "text"
      },
      "source": [
        "<a href=\"https://colab.research.google.com/github/Binali2142/Final-Project-Python-IBM/blob/main/Final_Assignment_v2_(3).ipynb\" target=\"_parent\"><img src=\"https://colab.research.google.com/assets/colab-badge.svg\" alt=\"Open In Colab\"/></a>"
      ]
    },
    {
      "cell_type": "markdown",
      "metadata": {
        "id": "d33309a1-d9e4-4752-bd1d-2dfcd6c29de1"
      },
      "source": [
        "<p style=\"text-align:center\">\n",
        "    <a href=\"https://skills.network/?utm_medium=Exinfluencer&utm_source=Exinfluencer&utm_content=000026UJ&utm_term=10006555&utm_id=NA-SkillsNetwork-Channel-SkillsNetworkCoursesIBMDeveloperSkillsNetworkPY0220ENSkillsNetwork900-2022-01-01\" target=\"_blank\">\n",
        "    <img src=\"https://cf-courses-data.s3.us.cloud-object-storage.appdomain.cloud/assets/logos/SN_web_lightmode.png\" width=\"200\" alt=\"Skills Network Logo\">\n",
        "    </a>\n",
        "</p>\n"
      ]
    },
    {
      "cell_type": "markdown",
      "metadata": {
        "id": "a95cc938-8d27-42b4-8025-1d908167817a"
      },
      "source": [
        "<h1>Extracting and Visualizing Stock Data</h1>\n",
        "<h2>Description</h2>\n"
      ]
    },
    {
      "cell_type": "markdown",
      "metadata": {
        "id": "c8ce94fb-d389-4f39-8dee-c082fc28b849"
      },
      "source": [
        "Extracting essential data from a dataset and displaying it is a necessary part of data science; therefore individuals can make correct decisions based on the data. In this assignment, you will extract some stock data, you will then display this data in a graph.\n"
      ]
    },
    {
      "cell_type": "markdown",
      "metadata": {
        "id": "4bebef78-0bfb-4649-98fe-b35654c6eb45"
      },
      "source": [
        "<h2>Table of Contents</h2>\n",
        "<div class=\"alert alert-block alert-info\" style=\"margin-top: 20px\">\n",
        "    <ul>\n",
        "        <li>Define a Function that Makes a Graph</li>\n",
        "        <li>Question 1: Use yfinance to Extract Stock Data</li>\n",
        "        <li>Question 2: Use Webscraping to Extract Tesla Revenue Data</li>\n",
        "        <li>Question 3: Use yfinance to Extract Stock Data</li>\n",
        "        <li>Question 4: Use Webscraping to Extract GME Revenue Data</li>\n",
        "        <li>Question 5: Plot Tesla Stock Graph</li>\n",
        "        <li>Question 6: Plot GameStop Stock Graph</li>\n",
        "    </ul>\n",
        "<p>\n",
        "    Estimated Time Needed: <strong>30 min</strong></p>\n",
        "</div>\n",
        "\n",
        "<hr>\n"
      ]
    },
    {
      "cell_type": "markdown",
      "metadata": {
        "id": "be9b7719-8aa6-4b28-9b09-1f91b84d74b1"
      },
      "source": [
        "***Note***:- If you are working Locally using anaconda, please uncomment the following code and execute it.\n",
        "Use the version as per your python version.\n"
      ]
    },
    {
      "cell_type": "code",
      "metadata": {
        "id": "244ae1b2-710b-496b-a226-dc7fac5b10d2"
      },
      "outputs": [],
      "source": [
        "!pip install yfinance\n",
        "!pip install bs4\n",
        "!pip install nbformat\n",
        "!pip install --upgrade plotly"
      ],
      "execution_count": null
    },
    {
      "cell_type": "code",
      "metadata": {
        "id": "5fd2aa81-d8f3-4fe3-a95b-7e7c4823c4c8"
      },
      "outputs": [],
      "source": [
        "import yfinance as yf\n",
        "import pandas as pd\n",
        "import requests\n",
        "from bs4 import BeautifulSoup\n",
        "import plotly.graph_objects as go\n",
        "from plotly.subplots import make_subplots"
      ],
      "execution_count": null
    },
    {
      "cell_type": "code",
      "metadata": {
        "id": "ab50ba35-ae93-4a5b-8fde-33dbc8228582"
      },
      "outputs": [],
      "source": [
        "import plotly.io as pio\n",
        "pio.renderers.default = \"iframe\""
      ],
      "execution_count": null
    },
    {
      "cell_type": "markdown",
      "metadata": {
        "id": "5c1644ae-3933-4b32-a8f4-e09e667b1426"
      },
      "source": [
        "In Python, you can ignore warnings using the warnings module. You can use the filterwarnings function to filter or ignore specific warning messages or categories.\n"
      ]
    },
    {
      "cell_type": "code",
      "metadata": {
        "id": "6f4b5203-12ee-4b99-837b-32e520486d86"
      },
      "outputs": [],
      "source": [
        "import warnings\n",
        "# Ignore all warnings\n",
        "warnings.filterwarnings(\"ignore\", category=FutureWarning)"
      ],
      "execution_count": null
    },
    {
      "cell_type": "markdown",
      "metadata": {
        "id": "66740a0e-695f-4945-8199-b5ff3a6b6dd8"
      },
      "source": [
        "## Define Graphing Function\n"
      ]
    },
    {
      "cell_type": "markdown",
      "metadata": {
        "id": "0a05d895-d01c-4194-89af-d87a4fb3f76d"
      },
      "source": [
        "In this section, we define the function `make_graph`. **You don't have to know how the function works, you should only care about the inputs. It takes a dataframe with stock data (dataframe must contain Date and Close columns), a dataframe with revenue data (dataframe must contain Date and Revenue columns), and the name of the stock.**\n"
      ]
    },
    {
      "cell_type": "code",
      "metadata": {
        "id": "ca1cfe5e-22a2-4164-ba70-8aa4329c0bcc"
      },
      "outputs": [],
      "source": [
        "def make_graph(stock_data, revenue_data, stock):\n",
        "    fig = make_subplots(rows=2, cols=1, shared_xaxes=True, subplot_titles=(\"Historical Share Price\", \"Historical Revenue\"), vertical_spacing = .3)\n",
        "    stock_data_specific = stock_data[stock_data.Date <= '2021-06-14']\n",
        "    revenue_data_specific = revenue_data[revenue_data.Date <= '2021-04-30']\n",
        "    fig.add_trace(go.Scatter(x=pd.to_datetime(stock_data_specific.Date, infer_datetime_format=True), y=stock_data_specific.Close.astype(\"float\"), name=\"Share Price\"), row=1, col=1)\n",
        "    fig.add_trace(go.Scatter(x=pd.to_datetime(revenue_data_specific.Date, infer_datetime_format=True), y=revenue_data_specific.Revenue.astype(\"float\"), name=\"Revenue\"), row=2, col=1)\n",
        "    fig.update_xaxes(title_text=\"Date\", row=1, col=1)\n",
        "    fig.update_xaxes(title_text=\"Date\", row=2, col=1)\n",
        "    fig.update_yaxes(title_text=\"Price ($US)\", row=1, col=1)\n",
        "    fig.update_yaxes(title_text=\"Revenue ($US Millions)\", row=2, col=1)\n",
        "    fig.update_layout(showlegend=False,\n",
        "    height=900,\n",
        "    title=stock,\n",
        "    xaxis_rangeslider_visible=True)\n",
        "    fig.show()\n",
        "    from IPython.display import display, HTML\n",
        "    fig_html = fig.to_html()\n",
        "    display(HTML(fig_html))"
      ],
      "execution_count": null
    },
    {
      "cell_type": "markdown",
      "metadata": {
        "id": "8cc4486c-7cc6-44ff-8bac-0d321516c59d"
      },
      "source": [
        "Use the make_graph function that we’ve already defined. You’ll need to invoke it in questions 5 and 6 to display the graphs and create the dashboard.\n",
        "> **Note: You don’t need to redefine the function for plotting graphs anywhere else in this notebook; just use the existing function.**\n"
      ]
    },
    {
      "cell_type": "markdown",
      "metadata": {
        "id": "a44bac85-84fe-4377-83b3-e8c7865bd079"
      },
      "source": [
        "## Question 1: Use yfinance to Extract Stock Data\n"
      ]
    },
    {
      "cell_type": "markdown",
      "metadata": {
        "id": "a9c4c114-6eb9-4db6-ac89-e109af655005"
      },
      "source": [
        "Using the `Ticker` function enter the ticker symbol of the stock we want to extract data on to create a ticker object. The stock is Tesla and its ticker symbol is `TSLA`.\n"
      ]
    },
    {
      "cell_type": "code",
      "metadata": {
        "colab": {
          "base_uri": "https://localhost:8080/"
        },
        "id": "99444990-b2a4-413d-a7de-96855b4b2f2f",
        "outputId": "80c863b6-5544-4a66-efc9-0358d501a3ce"
      },
      "outputs": [
        {
          "output_type": "stream",
          "name": "stdout",
          "text": [
            "{'address1': '1 Tesla Road', 'city': 'Austin', 'state': 'TX', 'zip': '78725', 'country': 'United States', 'phone': '512 516 8177', 'website': 'https://www.tesla.com', 'industry': 'Auto Manufacturers', 'industryKey': 'auto-manufacturers', 'industryDisp': 'Auto Manufacturers', 'sector': 'Consumer Cyclical', 'sectorKey': 'consumer-cyclical', 'sectorDisp': 'Consumer Cyclical', 'longBusinessSummary': 'Tesla, Inc. designs, develops, manufactures, leases, and sells electric vehicles, and energy generation and storage systems in the United States, China, and internationally. The company operates in two segments, Automotive; and Energy Generation and Storage. The Automotive segment offers electric vehicles, as well as sells automotive regulatory credits; and non-warranty after-sales vehicle, used vehicles, body shop and parts, supercharging, retail merchandise, and vehicle insurance services. This segment also provides sedans and sport utility vehicles through direct and used vehicle sales, a network of Tesla Superchargers, and in-app upgrades; purchase financing and leasing services; services for electric vehicles through its company-owned service locations and Tesla mobile service technicians; and vehicle limited warranties and extended service plans. The Energy Generation and Storage segment engages in the design, manufacture, installation, sale, and leasing of solar energy generation and energy storage products, and related services to residential, commercial, and industrial customers and utilities through its website, stores, and galleries, as well as through a network of channel partners. This segment also provides services and repairs to its energy product customers, including under warranty; and various financing options to its residential customers. The company was formerly known as Tesla Motors, Inc. and changed its name to Tesla, Inc. in February 2017. Tesla, Inc. was incorporated in 2003 and is headquartered in Austin, Texas.', 'fullTimeEmployees': 125665, 'companyOfficers': [{'maxAge': 1, 'name': 'Mr. Elon R. Musk', 'age': 53, 'title': 'Co-Founder, Technoking of Tesla, CEO & Director', 'yearBorn': 1971, 'fiscalYear': 2023, 'exercisedValue': 0, 'unexercisedValue': 0}, {'maxAge': 1, 'name': 'Mr. Vaibhav  Taneja', 'age': 46, 'title': 'Chief Financial Officer', 'yearBorn': 1978, 'fiscalYear': 2023, 'totalPay': 278000, 'exercisedValue': 8517957, 'unexercisedValue': 202075632}, {'maxAge': 1, 'name': 'Mr. Xiaotong  Zhu', 'age': 44, 'title': 'Senior Vice President of Automotive', 'yearBorn': 1980, 'fiscalYear': 2023, 'totalPay': 926877, 'exercisedValue': 0, 'unexercisedValue': 344144320}, {'maxAge': 1, 'name': 'Travis  Axelrod', 'title': 'Head of Investor Relations', 'fiscalYear': 2023, 'exercisedValue': 0, 'unexercisedValue': 0}, {'maxAge': 1, 'name': 'Brian  Scelfo', 'title': 'Senior Director of Corporate Development', 'fiscalYear': 2023, 'exercisedValue': 0, 'unexercisedValue': 0}, {'maxAge': 1, 'name': 'Mr. Franz  von Holzhausen', 'title': 'Chief Designer', 'fiscalYear': 2023, 'exercisedValue': 0, 'unexercisedValue': 0}, {'maxAge': 1, 'name': 'Mr. John  Walker', 'age': 61, 'title': 'Vice President of Sales - North America', 'yearBorn': 1963, 'fiscalYear': 2023, 'totalPay': 121550, 'exercisedValue': 0, 'unexercisedValue': 0}, {'maxAge': 1, 'name': 'Mr. Peter  Bannon', 'title': 'Chip Architect', 'fiscalYear': 2023, 'exercisedValue': 0, 'unexercisedValue': 0}, {'maxAge': 1, 'name': 'Mr. Turner  Caldwell', 'title': 'Engineering Manager', 'fiscalYear': 2023, 'exercisedValue': 0, 'unexercisedValue': 0}, {'maxAge': 1, 'name': 'Mr. Rodney D. Westmoreland Jr.', 'title': 'Director of Construction Management', 'fiscalYear': 2023, 'exercisedValue': 0, 'unexercisedValue': 0}], 'auditRisk': 5, 'boardRisk': 9, 'compensationRisk': 10, 'shareHolderRightsRisk': 9, 'overallRisk': 10, 'governanceEpochDate': 1738368000, 'compensationAsOfEpochDate': 1703980800, 'executiveTeam': [], 'maxAge': 86400, 'priceHint': 2, 'previousClose': 354.4, 'open': 353.16, 'dayLow': 334.42, 'dayHigh': 354.98, 'regularMarketPreviousClose': 354.4, 'regularMarketOpen': 353.16, 'regularMarketDayLow': 334.42, 'regularMarketDayHigh': 354.98, 'payoutRatio': 0.0, 'beta': 2.336, 'trailingPE': 166.40393, 'forwardPE': 104.259254, 'volume': 74058648, 'regularMarketVolume': 74058648, 'averageVolume': 80019600, 'averageVolume10days': 76793740, 'averageDailyVolume10Day': 76793740, 'bid': 337.66, 'ask': 337.86, 'bidSize': 1, 'askSize': 1, 'marketCap': 1086540414976, 'fiftyTwoWeekLow': 138.8, 'fiftyTwoWeekHigh': 488.54, 'priceToSalesTrailing12Months': 11.12233, 'fiftyDayAverage': 400.6962, 'twoHundredDayAverage': 275.6575, 'trailingAnnualDividendRate': 0.0, 'trailingAnnualDividendYield': 0.0, 'currency': 'USD', 'tradeable': False, 'enterpriseValue': 1064366440448, 'profitMargins': 0.07259, 'floatShares': 2799881585, 'sharesOutstanding': 3216519936, 'sharesShort': 59612004, 'sharesShortPriorMonth': 67379077, 'sharesShortPreviousMonthDate': 1735603200, 'dateShortInterest': 1738281600, 'sharesPercentSharesOut': 0.0185, 'heldPercentInsiders': 0.12965, 'heldPercentInstitutions': 0.49240002, 'shortRatio': 0.79, 'shortPercentOfFloat': 0.021300001, 'impliedSharesOutstanding': 3216519936, 'bookValue': 22.672, 'priceToBook': 14.899434, 'lastFiscalYearEnd': 1735603200, 'nextFiscalYearEnd': 1767139200, 'mostRecentQuarter': 1735603200, 'earningsQuarterlyGrowth': -0.708, 'netIncomeToCommon': 7129999872, 'trailingEps': 2.03, 'forwardEps': 3.24, 'lastSplitFactor': '3:1', 'lastSplitDate': 1661385600, 'enterpriseToRevenue': 10.895, 'enterpriseToEbitda': 81.705, '52WeekChange': 0.69408226, 'SandP52WeekChange': 0.1861316, 'quoteType': 'EQUITY', 'currentPrice': 337.8, 'targetHighPrice': 550.0, 'targetLowPrice': 135.0, 'targetMeanPrice': 342.5826, 'targetMedianPrice': 359.0, 'recommendationMean': 2.70833, 'recommendationKey': 'hold', 'numberOfAnalystOpinions': 42, 'totalCash': 36563001344, 'totalCashPerShare': 11.367, 'ebitda': 13027000320, 'totalDebt': 13623000064, 'quickRatio': 1.427, 'currentRatio': 2.025, 'totalRevenue': 97690001408, 'debtToEquity': 18.489, 'revenuePerShare': 30.557, 'returnOnAssets': 0.04186, 'returnOnEquity': 0.1042, 'grossProfits': 17450000384, 'freeCashflow': -826875008, 'operatingCashflow': 14922999808, 'earningsGrowth': -0.709, 'revenueGrowth': 0.021, 'grossMargins': 0.17863001, 'ebitdaMargins': 0.13335, 'operatingMargins': 0.06158, 'financialCurrency': 'USD', 'symbol': 'TSLA', 'language': 'en-US', 'region': 'US', 'typeDisp': 'Equity', 'quoteSourceName': 'Nasdaq Real Time Price', 'triggerable': True, 'customPriceAlertConfidence': 'HIGH', 'marketState': 'CLOSED', 'regularMarketChangePercent': -4.6839747, 'regularMarketPrice': 337.8, 'corporateActions': [], 'postMarketTime': 1740185999, 'regularMarketTime': 1740171600, 'shortName': 'Tesla, Inc.', 'longName': 'Tesla, Inc.', 'exchange': 'NMS', 'messageBoardId': 'finmb_27444752', 'exchangeTimezoneName': 'America/New_York', 'exchangeTimezoneShortName': 'EST', 'gmtOffSetMilliseconds': -18000000, 'market': 'us_market', 'esgPopulated': False, 'sourceInterval': 15, 'exchangeDataDelayedBy': 0, 'averageAnalystRating': '2.7 - Hold', 'cryptoTradeable': False, 'postMarketChangePercent': -0.145053, 'postMarketPrice': 337.31, 'postMarketChange': -0.48999, 'regularMarketChange': -16.600006, 'regularMarketDayRange': '334.42 - 354.98', 'fullExchangeName': 'NasdaqGS', 'averageDailyVolume3Month': 80019600, 'fiftyTwoWeekLowChange': 198.99998, 'fiftyTwoWeekLowChangePercent': 1.4337175, 'fiftyTwoWeekRange': '138.8 - 488.54', 'fiftyTwoWeekHighChange': -150.74002, 'fiftyTwoWeekHighChangePercent': -0.30855206, 'fiftyTwoWeekChangePercent': 69.408226, 'earningsTimestamp': 1738184940, 'earningsTimestampStart': 1745438400, 'earningsTimestampEnd': 1746302400, 'earningsCallTimestampStart': 1738189800, 'earningsCallTimestampEnd': 1738189800, 'isEarningsDateEstimate': True, 'epsTrailingTwelveMonths': 2.03, 'epsForward': 3.24, 'epsCurrentYear': 2.84144, 'priceEpsCurrentYear': 118.88338, 'fiftyDayAverageChange': -62.89621, 'fiftyDayAverageChangePercent': -0.15696733, 'twoHundredDayAverageChange': 62.142487, 'twoHundredDayAverageChangePercent': 0.22543369, 'hasPrePostMarketData': True, 'firstTradeDateMilliseconds': 1277818200000, 'displayName': 'Tesla', 'trailingPegRatio': 4.7551}\n"
          ]
        }
      ],
      "source": [
        "import yfinance as yf\n",
        "\n",
        "# Create a ticker object for Tesla\n",
        "tsla = yf.Ticker(\"TSLA\")\n",
        "\n",
        "# Display basic information\n",
        "print(tsla.info)\n"
      ],
      "execution_count": 1
    },
    {
      "cell_type": "markdown",
      "metadata": {
        "id": "d1900ff1-e94d-4503-aede-ff287eb75fad"
      },
      "source": [
        "Using the ticker object and the function `history` extract stock information and save it in a dataframe named `tesla_data`. Set the `period` parameter to ` \"max\" ` so we get information for the maximum amount of time.\n"
      ]
    },
    {
      "cell_type": "code",
      "metadata": {
        "colab": {
          "base_uri": "https://localhost:8080/"
        },
        "id": "abb5327e-46eb-4140-a147-407c14df655c",
        "outputId": "d6dc96ce-6838-4e26-984b-7b79e063f4c3"
      },
      "outputs": [
        {
          "output_type": "stream",
          "name": "stdout",
          "text": [
            "                               Open      High       Low     Close     Volume  \\\n",
            "Date                                                                           \n",
            "2010-06-29 00:00:00-04:00  1.266667  1.666667  1.169333  1.592667  281494500   \n",
            "2010-06-30 00:00:00-04:00  1.719333  2.028000  1.553333  1.588667  257806500   \n",
            "2010-07-01 00:00:00-04:00  1.666667  1.728000  1.351333  1.464000  123282000   \n",
            "2010-07-02 00:00:00-04:00  1.533333  1.540000  1.247333  1.280000   77097000   \n",
            "2010-07-06 00:00:00-04:00  1.333333  1.333333  1.055333  1.074000  103003500   \n",
            "\n",
            "                           Dividends  Stock Splits  \n",
            "Date                                                \n",
            "2010-06-29 00:00:00-04:00        0.0           0.0  \n",
            "2010-06-30 00:00:00-04:00        0.0           0.0  \n",
            "2010-07-01 00:00:00-04:00        0.0           0.0  \n",
            "2010-07-02 00:00:00-04:00        0.0           0.0  \n",
            "2010-07-06 00:00:00-04:00        0.0           0.0  \n"
          ]
        }
      ],
      "source": [
        "import yfinance as yf\n",
        "\n",
        "# Create a ticker object for Tesla\n",
        "tsla = yf.Ticker(\"TSLA\")\n",
        "\n",
        "# Get historical market data for the maximum available period\n",
        "tesla_data = tsla.history(period=\"max\")\n",
        "\n",
        "# Display the first few rows of the DataFrame\n",
        "print(tesla_data.head())\n"
      ],
      "execution_count": 2
    },
    {
      "cell_type": "markdown",
      "metadata": {
        "id": "9ad97377-1201-4545-a48f-68e075a5a81f"
      },
      "source": [
        "**Reset the index** using the `reset_index(inplace=True)` function on the tesla_data DataFrame and display the first five rows of the `tesla_data` dataframe using the `head` function. Take a screenshot of the results and code from the beginning of Question 1 to the results below.\n"
      ]
    },
    {
      "cell_type": "code",
      "metadata": {
        "colab": {
          "base_uri": "https://localhost:8080/"
        },
        "id": "e4f804e1-940c-4d0c-893b-16ece266ec2d",
        "outputId": "010d000b-0aef-41e8-deaa-05a7a29cc04e"
      },
      "outputs": [
        {
          "output_type": "stream",
          "name": "stdout",
          "text": [
            "                       Date      Open      High       Low     Close  \\\n",
            "0 2010-06-29 00:00:00-04:00  1.266667  1.666667  1.169333  1.592667   \n",
            "1 2010-06-30 00:00:00-04:00  1.719333  2.028000  1.553333  1.588667   \n",
            "2 2010-07-01 00:00:00-04:00  1.666667  1.728000  1.351333  1.464000   \n",
            "3 2010-07-02 00:00:00-04:00  1.533333  1.540000  1.247333  1.280000   \n",
            "4 2010-07-06 00:00:00-04:00  1.333333  1.333333  1.055333  1.074000   \n",
            "\n",
            "      Volume  Dividends  Stock Splits  \n",
            "0  281494500        0.0           0.0  \n",
            "1  257806500        0.0           0.0  \n",
            "2  123282000        0.0           0.0  \n",
            "3   77097000        0.0           0.0  \n",
            "4  103003500        0.0           0.0  \n"
          ]
        }
      ],
      "source": [
        "import yfinance as yf\n",
        "\n",
        "# Create a ticker object for Tesla\n",
        "tsla = yf.Ticker(\"TSLA\")\n",
        "\n",
        "# Get historical market data for the maximum available period\n",
        "tesla_data = tsla.history(period=\"max\")\n",
        "\n",
        "# Reset the index\n",
        "tesla_data.reset_index(inplace=True)\n",
        "\n",
        "# Display the first five rows\n",
        "print(tesla_data.head())\n"
      ],
      "execution_count": 3
    },
    {
      "cell_type": "markdown",
      "metadata": {
        "id": "d88591e4-6534-4e3f-9f6a-d7b00d47ea2e"
      },
      "source": [
        "## Question 2: Use Webscraping to Extract Tesla Revenue Data\n"
      ]
    },
    {
      "cell_type": "markdown",
      "metadata": {
        "id": "2cc17b01-c34d-4360-9eb7-2f08513bef2e"
      },
      "source": [
        "Use the `requests` library to download the webpage https://cf-courses-data.s3.us.cloud-object-storage.appdomain.cloud/IBMDeveloperSkillsNetwork-PY0220EN-SkillsNetwork/labs/project/revenue.htm Save the text of the response as a variable named `html_data`.\n"
      ]
    },
    {
      "cell_type": "code",
      "metadata": {
        "colab": {
          "base_uri": "https://localhost:8080/"
        },
        "id": "613365cc-ebf2-4d3d-b51d-b9aeda5262c4",
        "outputId": "0079cf4c-306b-4d5d-e5d0-95295c3fc8ef"
      },
      "outputs": [
        {
          "output_type": "stream",
          "name": "stdout",
          "text": [
            "\n",
            "<!DOCTYPE html>\n",
            "<!--[if lt IE 7]>      <html class=\"no-js lt-ie9 lt-ie8 lt-ie7\"> <![endif]-->\n",
            "<!--[if IE 7]>         <html class=\"no-js lt-ie9 lt-ie8\"> <![endif]-->\n",
            "<!--[if IE 8]>         <html class=\"no-js lt-ie9\"> <![endif]-->\n",
            "<!--[if gt IE 8]><!--> <html class=\"no-js\"> <!--<![endif]-->\n",
            "    <head>\n",
            "        <meta charset=\"utf-8\">\n",
            "        <meta http-equiv=\"X-UA-Compatible\" content=\"IE=edge,chrome=1\">\n",
            "\t\t<link rel=\"canonical\" href=\"https://www.macrotrends.net/stocks/charts/TSLA/tesla/revenue\" />\n",
            "\t\n"
          ]
        }
      ],
      "source": [
        "import requests\n",
        "\n",
        "# URL of the webpage containing Tesla revenue data\n",
        "url = \"https://cf-courses-data.s3.us.cloud-object-storage.appdomain.cloud/IBMDeveloperSkillsNetwork-PY0220EN-SkillsNetwork/labs/project/revenue.htm\"\n",
        "\n",
        "# Send an HTTP request to fetch the webpage\n",
        "response = requests.get(url)\n",
        "\n",
        "# Save the response text in a variable\n",
        "html_data = response.text\n",
        "\n",
        "# Print the first 500 characters to check the data\n",
        "print(html_data[:500])\n"
      ],
      "execution_count": 4
    },
    {
      "cell_type": "markdown",
      "metadata": {
        "id": "bae86fb0-960a-4eee-bb18-615f7510d255"
      },
      "source": [
        "**Parse** the html data using `beautiful_soup` using parser i.e `html5lib` or `html.parser`.\n"
      ]
    },
    {
      "cell_type": "code",
      "metadata": {
        "colab": {
          "base_uri": "https://localhost:8080/"
        },
        "id": "866239ec-89cc-4461-a864-90824376b169",
        "outputId": "3a25c3cc-ee1a-4d83-d208-b98f1e6483dc"
      },
      "outputs": [
        {
          "output_type": "stream",
          "name": "stdout",
          "text": [
            "<!DOCTYPE html>\n",
            "<!--[if lt IE 7]>      <html class=\"no-js lt-ie9 lt-ie8 lt-ie7\"> <![endif]-->\n",
            "<!--[if IE 7]>         <html class=\"no-js lt-ie9 lt-ie8\"> <![endif]-->\n",
            "<!--[if IE 8]>         <html class=\"no-js lt-ie9\"> <![endif]-->\n",
            "<!--[if gt IE 8]><!-->\n",
            "<html class=\"no-js\">\n",
            " <!--<![endif]-->\n",
            " <head>\n",
            "  <meta charset=\"utf-8\"/>\n",
            "  <meta content=\"IE=edge,chrome=1\" http-equiv=\"X-UA-Compatible\"/>\n",
            "  <link href=\"https://www.macrotrends.net/stocks/charts/TSLA/tesla/revenue\" rel=\"canonical\"/>\n",
            "  <title>\n",
            "   Te\n"
          ]
        }
      ],
      "source": [
        "from bs4 import BeautifulSoup\n",
        "\n",
        "# Parse the HTML data using BeautifulSoup\n",
        "soup = BeautifulSoup(html_data, \"html.parser\")  # You can also use \"html5lib\"\n",
        "\n",
        "# Print the first 500 characters of the parsed HTML\n",
        "print(soup.prettify()[:500])\n"
      ],
      "execution_count": 5
    },
    {
      "cell_type": "markdown",
      "metadata": {
        "id": "f9f4731e-cc31-43dd-b22f-0f69be7323c3"
      },
      "source": [
        "Using `BeautifulSoup` or the `read_html` function extract the table with `Tesla Revenue` and store it into a dataframe named `tesla_revenue`. The dataframe should have columns `Date` and `Revenue`.\n"
      ]
    },
    {
      "cell_type": "markdown",
      "metadata": {
        "id": "ebe825f7-1b3f-474f-a5df-136603103b6c"
      },
      "source": [
        "<details><summary>Step-by-step instructions</summary>\n",
        "\n",
        "```\n",
        "\n",
        "Here are the step-by-step instructions:\n",
        "\n",
        "1. Create an Empty DataFrame\n",
        "2. Find the Relevant Table\n",
        "3. Check for the Tesla Quarterly Revenue Table\n",
        "4. Iterate Through Rows in the Table Body\n",
        "5. Extract Data from Columns\n",
        "6. Append Data to the DataFrame\n",
        "\n",
        "```\n",
        "</details>\n"
      ]
    },
    {
      "cell_type": "markdown",
      "metadata": {
        "id": "dee0fa1f-2755-48f2-a652-932a71fcb857"
      },
      "source": [
        "<details><summary>Click here if you need help locating the table</summary>\n",
        "\n",
        "```\n",
        "    \n",
        "Below is the code to isolate the table, you will now need to loop through the rows and columns like in the previous lab\n",
        "    \n",
        "soup.find_all(\"tbody\")[1]\n",
        "    \n",
        "If you want to use the read_html function the table is located at index 1\n",
        "\n",
        "We are focusing on quarterly revenue in the lab.\n",
        "```\n",
        "\n",
        "</details>\n"
      ]
    },
    {
      "cell_type": "code",
      "metadata": {
        "colab": {
          "base_uri": "https://localhost:8080/"
        },
        "id": "99520961-3ce8-4051-ad74-d2d142256836",
        "outputId": "a35a8ce7-c9a2-45d3-8841-be5900ead396"
      },
      "outputs": [
        {
          "output_type": "stream",
          "name": "stderr",
          "text": [
            "<ipython-input-6-52c2ac11845b>:14: FutureWarning: Passing literal html to 'read_html' is deprecated and will be removed in a future version. To read from a literal string, wrap it in a 'StringIO' object.\n",
            "  tables = pd.read_html(str(soup))  # Convert soup object to string for pandas\n"
          ]
        },
        {
          "output_type": "stream",
          "name": "stdout",
          "text": [
            "Table 0 Preview:\n",
            "    Tesla Annual Revenue (Millions of US $)  \\\n",
            "0                                     2021   \n",
            "1                                     2020   \n",
            "2                                     2019   \n",
            "3                                     2018   \n",
            "4                                     2017   \n",
            "\n",
            "  Tesla Annual Revenue (Millions of US $).1  \n",
            "0                                   $53,823  \n",
            "1                                   $31,536  \n",
            "2                                   $24,578  \n",
            "3                                   $21,461  \n",
            "4                                   $11,759   \n",
            "\n",
            "Table 1 Preview:\n",
            "   Tesla Quarterly Revenue (Millions of US $)  \\\n",
            "0                                 2022-09-30   \n",
            "1                                 2022-06-30   \n",
            "2                                 2022-03-31   \n",
            "3                                 2021-12-31   \n",
            "4                                 2021-09-30   \n",
            "\n",
            "  Tesla Quarterly Revenue (Millions of US $).1  \n",
            "0                                      $21,454  \n",
            "1                                      $16,934  \n",
            "2                                      $18,756  \n",
            "3                                      $17,719  \n",
            "4                                      $13,757   \n",
            "\n",
            "Table 2 Preview:\n",
            "                                               Sector  \\\n",
            "0                                  Auto/Tires/Trucks   \n",
            "1  Tesla is the market leader in battery-powered ...   \n",
            "\n",
            "                                            Industry  \\\n",
            "0                      Auto Manufacturers - Domestic   \n",
            "1  Tesla is the market leader in battery-powered ...   \n",
            "\n",
            "                                          Market Cap  \\\n",
            "0                                          $549.575B   \n",
            "1  Tesla is the market leader in battery-powered ...   \n",
            "\n",
            "                                             Revenue  \n",
            "0                                           $53.823B  \n",
            "1  Tesla is the market leader in battery-powered ...   \n",
            "\n",
            "Table 3 Preview:\n",
            "               Stock Name        Country Market Cap  PE Ratio\n",
            "0    General Motors (GM)  United States   $53.930B      5.56\n",
            "1         Ford Motor (F)  United States   $52.668B      8.09\n",
            "2  Harley-Davidson (HOG)  United States    $6.762B      9.56\n",
            "3          Polaris (PII)  United States    $6.267B     11.86\n",
            "4              IAA (IAA)  United States    $5.134B     16.40 \n",
            "\n",
            "Table 4 Preview:\n",
            "                      Link Preview  HTML Code (Click to Copy)\n",
            "0  Tesla Revenue 2010-2022 | TSLA                        NaN\n",
            "1                     Macrotrends                        NaN\n",
            "2                          Source                        NaN \n",
            "\n",
            "Table 5 Preview:\n",
            "                      Link Preview  HTML Code (Click to Copy)\n",
            "0  Tesla Revenue 2010-2022 | TSLA                        NaN\n",
            "1                     Macrotrends                        NaN\n",
            "2                          Source                        NaN \n",
            "\n",
            "         Date  Revenue\n",
            "0  2022-09-30  $21,454\n",
            "1  2022-06-30  $16,934\n",
            "2  2022-03-31  $18,756\n",
            "3  2021-12-31  $17,719\n",
            "4  2021-09-30  $13,757\n"
          ]
        }
      ],
      "source": [
        "import requests\n",
        "import pandas as pd\n",
        "from bs4 import BeautifulSoup\n",
        "\n",
        "# Step 1: Fetch the HTML page\n",
        "url = \"https://cf-courses-data.s3.us.cloud-object-storage.appdomain.cloud/IBMDeveloperSkillsNetwork-PY0220EN-SkillsNetwork/labs/project/revenue.htm\"\n",
        "response = requests.get(url)\n",
        "html_data = response.text  # Save HTML content\n",
        "\n",
        "# Step 2: Parse HTML using BeautifulSoup\n",
        "soup = BeautifulSoup(html_data, \"html.parser\")\n",
        "\n",
        "# Step 3: Extract tables using pandas\n",
        "tables = pd.read_html(str(soup))  # Convert soup object to string for pandas\n",
        "\n",
        "# Step 4: Identify the correct table\n",
        "for i, table in enumerate(tables):\n",
        "    print(f\"Table {i} Preview:\\n\", table.head(), \"\\n\")  # Check the tables\n",
        "\n",
        "# Select the correct Tesla Revenue table (usually index 1 or 0)\n",
        "tesla_revenue = tables[1]  # Adjust index if needed\n",
        "\n",
        "# Step 5: Rename columns to 'Date' and 'Revenue'\n",
        "tesla_revenue.columns = [\"Date\", \"Revenue\"]\n",
        "\n",
        "# Step 6: Display first five rows\n",
        "print(tesla_revenue.head())\n"
      ],
      "execution_count": 6
    },
    {
      "cell_type": "markdown",
      "metadata": {
        "id": "a757b566-8508-4f6e-b927-55f599882d73"
      },
      "source": [
        "Execute the following line to remove the comma and dollar sign from the `Revenue` column.\n"
      ]
    },
    {
      "cell_type": "code",
      "metadata": {
        "id": "a05d0a5f-8f31-4df9-9396-1bd016bf2e72"
      },
      "outputs": [],
      "source": [
        "tesla_revenue[\"Revenue\"] = tesla_revenue['Revenue'].str.replace(',|\\$',\"\")"
      ],
      "execution_count": null
    },
    {
      "cell_type": "markdown",
      "metadata": {
        "id": "8164b5b7-45be-4f8a-844a-400236dafc4c"
      },
      "source": [
        "Execute the following lines to remove an null or empty strings in the Revenue column.\n"
      ]
    },
    {
      "cell_type": "code",
      "metadata": {
        "id": "3619590e-992c-4091-9812-295357ce4862"
      },
      "outputs": [],
      "source": [
        "tesla_revenue.dropna(inplace=True)\n",
        "\n",
        "tesla_revenue = tesla_revenue[tesla_revenue['Revenue'] != \"\"]"
      ],
      "execution_count": null
    },
    {
      "cell_type": "markdown",
      "metadata": {
        "id": "d81d7773-ef0f-4b39-a53f-d8eeb1fd3e58"
      },
      "source": [
        "Display the last 5 row of the `tesla_revenue` dataframe using the `tail` function. Take a screenshot of the results.\n"
      ]
    },
    {
      "cell_type": "code",
      "metadata": {
        "colab": {
          "base_uri": "https://localhost:8080/"
        },
        "id": "cba293e1-2370-4d69-9def-4684e33d716f",
        "outputId": "d2cb3679-e5a2-4954-ba9a-9e53a7af827a"
      },
      "outputs": [
        {
          "output_type": "stream",
          "name": "stdout",
          "text": [
            "          Date Revenue\n",
            "48  2010-09-30      31\n",
            "49  2010-06-30      28\n",
            "50  2010-03-31      21\n",
            "52  2009-09-30      46\n",
            "53  2009-06-30      27\n"
          ]
        },
        {
          "output_type": "stream",
          "name": "stderr",
          "text": [
            "<ipython-input-7-cfa842e4f701>:14: FutureWarning: Passing literal html to 'read_html' is deprecated and will be removed in a future version. To read from a literal string, wrap it in a 'StringIO' object.\n",
            "  tables = pd.read_html(str(soup))  # Convert soup object to string for pandas\n"
          ]
        }
      ],
      "source": [
        "import requests\n",
        "import pandas as pd\n",
        "from bs4 import BeautifulSoup\n",
        "\n",
        "# Step 1: Fetch the HTML page\n",
        "url = \"https://cf-courses-data.s3.us.cloud-object-storage.appdomain.cloud/IBMDeveloperSkillsNetwork-PY0220EN-SkillsNetwork/labs/project/revenue.htm\"\n",
        "response = requests.get(url)\n",
        "html_data = response.text  # Save HTML content\n",
        "\n",
        "# Step 2: Parse HTML using BeautifulSoup\n",
        "soup = BeautifulSoup(html_data, \"html.parser\")\n",
        "\n",
        "# Step 3: Extract tables using pandas\n",
        "tables = pd.read_html(str(soup))  # Convert soup object to string for pandas\n",
        "\n",
        "# Step 4: Identify the correct table\n",
        "tesla_revenue = tables[1]  # Adjust index if needed\n",
        "tesla_revenue.columns = [\"Date\", \"Revenue\"]  # Rename columns\n",
        "\n",
        "# Step 5: Clean Revenue Column\n",
        "tesla_revenue[\"Revenue\"] = tesla_revenue[\"Revenue\"].str.replace(',|\\$', \"\", regex=True)\n",
        "\n",
        "# Step 6: Remove null or empty values\n",
        "tesla_revenue.dropna(inplace=True)\n",
        "tesla_revenue = tesla_revenue[tesla_revenue[\"Revenue\"] != \"\"]\n",
        "\n",
        "# Step 7: Display last five rows\n",
        "print(tesla_revenue.tail())\n"
      ],
      "execution_count": 7
    },
    {
      "cell_type": "markdown",
      "metadata": {
        "id": "b8341eae-3f5c-4888-99df-a3c804ab1164"
      },
      "source": [
        "## Question 3: Use yfinance to Extract Stock Data\n"
      ]
    },
    {
      "cell_type": "markdown",
      "metadata": {
        "id": "5339e3e4-c2d6-49f9-99eb-45f8cd7b27f9"
      },
      "source": [
        "Using the `Ticker` function enter the ticker symbol of the stock we want to extract data on to create a ticker object. The stock is GameStop and its ticker symbol is `GME`.\n"
      ]
    },
    {
      "cell_type": "code",
      "metadata": {
        "colab": {
          "base_uri": "https://localhost:8080/"
        },
        "id": "8a611bbc-1d04-4d77-acdf-5d6adbcaf3ae",
        "outputId": "14b0e5f8-4161-44f5-fb77-01e899fc2826"
      },
      "outputs": [
        {
          "output_type": "stream",
          "name": "stdout",
          "text": [
            "{'address1': '625 Westport Parkway', 'city': 'Grapevine', 'state': 'TX', 'zip': '76051', 'country': 'United States', 'phone': '817 424 2000', 'website': 'https://www.gamestop.com', 'industry': 'Specialty Retail', 'industryKey': 'specialty-retail', 'industryDisp': 'Specialty Retail', 'sector': 'Consumer Cyclical', 'sectorKey': 'consumer-cyclical', 'sectorDisp': 'Consumer Cyclical', 'longBusinessSummary': 'GameStop Corp., a specialty retailer, provides games and entertainment products through its stores and ecommerce platforms in the United States, Canada, Australia, and Europe. The company sells new and pre-owned gaming platforms; accessories, such as controllers, gaming headsets, and virtual reality products; new and pre-owned gaming software; and in-game digital currency, digital downloadable content, and full-game downloads. It sells collectibles comprising apparel, toys, trading cards, gadgets, and other retail products for pop culture and technology enthusiasts, as well as engages in the digital asset wallet and NFT marketplace activities. The company operates stores and ecommerce sites under the GameStop, EB Games, and Micromania brands; and pop culture themed stores that sell collectibles, apparel, gadgets, electronics, toys, and other retail products under the Zing Pop Culture brand, as well as offers Game Informer magazine, a print and digital gaming publication. The company was formerly known as GSC Holdings Corp. GameStop Corp. was founded in 1996 and is headquartered in Grapevine, Texas.', 'fullTimeEmployees': 8000, 'companyOfficers': [{'maxAge': 1, 'name': 'Mr. Ryan  Cohen', 'age': 38, 'title': 'President, CEO & Executive Chairman', 'yearBorn': 1986, 'fiscalYear': 2023, 'exercisedValue': 0, 'unexercisedValue': 0}, {'maxAge': 1, 'name': 'Mr. Daniel William Moore', 'age': 41, 'title': 'Principal Accounting Officer & Principal Financial Officer', 'yearBorn': 1983, 'fiscalYear': 2023, 'totalPay': 277711, 'exercisedValue': 0, 'unexercisedValue': 0}, {'maxAge': 1, 'name': 'Mr. Mark Haymond Robinson', 'age': 46, 'title': 'General Counsel & Secretary', 'yearBorn': 1978, 'fiscalYear': 2023, 'totalPay': 337657, 'exercisedValue': 0, 'unexercisedValue': 0}], 'auditRisk': 7, 'boardRisk': 6, 'compensationRisk': 7, 'shareHolderRightsRisk': 3, 'overallRisk': 5, 'governanceEpochDate': 1738368000, 'compensationAsOfEpochDate': 1703980800, 'irWebsite': 'http://phx.corporate-ir.net/phoenix.zhtml?c=130125&p=irol-irhome', 'executiveTeam': [], 'maxAge': 86400, 'priceHint': 2, 'previousClose': 27.04, 'open': 27.25, 'dayLow': 26.1553, 'dayHigh': 27.58, 'regularMarketPreviousClose': 27.04, 'regularMarketOpen': 27.25, 'regularMarketDayLow': 26.1553, 'regularMarketDayHigh': 27.58, 'exDividendDate': 1552521600, 'payoutRatio': 0.0, 'fiveYearAvgDividendYield': 9.52, 'beta': -0.086, 'trailingPE': 132.09999, 'forwardPE': -2642.0, 'volume': 5859000, 'regularMarketVolume': 5859000, 'averageVolume': 9554705, 'averageVolume10days': 6809670, 'averageDailyVolume10Day': 6809670, 'bid': 26.37, 'ask': 26.4, 'bidSize': 8, 'askSize': 8, 'marketCap': 11804455936, 'fiftyTwoWeekLow': 9.95, 'fiftyTwoWeekHigh': 64.83, 'priceToSalesTrailing12Months': 2.7236862, 'fiftyDayAverage': 28.5764, 'twoHundredDayAverage': 25.11535, 'trailingAnnualDividendRate': 0.0, 'trailingAnnualDividendYield': 0.0, 'currency': 'USD', 'tradeable': False, 'enterpriseValue': 7651765760, 'profitMargins': 0.01456, 'floatShares': 408710634, 'sharesOutstanding': 446800000, 'sharesShort': 30329696, 'sharesShortPriorMonth': 31301108, 'sharesShortPreviousMonthDate': 1735603200, 'dateShortInterest': 1738281600, 'sharesPercentSharesOut': 0.0679, 'heldPercentInsiders': 0.0849, 'heldPercentInstitutions': 0.32860002, 'shortRatio': 4.47, 'shortPercentOfFloat': 0.08140001, 'impliedSharesOutstanding': 446800000, 'bookValue': 10.753, 'priceToBook': 2.4569888, 'lastFiscalYearEnd': 1706918400, 'nextFiscalYearEnd': 1738540800, 'mostRecentQuarter': 1730505600, 'netIncomeToCommon': 63100000, 'trailingEps': 0.2, 'forwardEps': -0.01, 'lastSplitFactor': '4:1', 'lastSplitDate': 1658448000, 'enterpriseToRevenue': 1.766, 'enterpriseToEbitda': 130.576, '52WeekChange': 0.9312866, 'SandP52WeekChange': 0.1861316, 'lastDividendValue': 0.095, 'lastDividendDate': 1552521600, 'quoteType': 'EQUITY', 'currentPrice': 26.42, 'targetHighPrice': 10.0, 'targetLowPrice': 10.0, 'targetMeanPrice': 10.0, 'targetMedianPrice': 10.0, 'recommendationKey': 'none', 'numberOfAnalystOpinions': 1, 'totalCash': 4616200192, 'totalCashPerShare': 10.332, 'ebitda': 58600000, 'totalDebt': 463500000, 'quickRatio': 4.25, 'currentRatio': 5.114, 'totalRevenue': 4334000128, 'debtToEquity': 9.647, 'revenuePerShare': 12.077, 'returnOnAssets': 0.00095, 'returnOnEquity': 0.0208, 'grossProfits': 1169699968, 'freeCashflow': -92362496, 'operatingCashflow': -27600000, 'revenueGrowth': -0.202, 'grossMargins': 0.26989, 'ebitdaMargins': 0.01352, 'operatingMargins': -0.02883, 'financialCurrency': 'USD', 'symbol': 'GME', 'language': 'en-US', 'region': 'US', 'typeDisp': 'Equity', 'quoteSourceName': 'Nasdaq Real Time Price', 'triggerable': True, 'customPriceAlertConfidence': 'HIGH', 'shortName': 'GameStop Corporation', 'corporateActions': [], 'postMarketTime': 1740185977, 'regularMarketTime': 1740171602, 'exchange': 'NYQ', 'messageBoardId': 'finmb_1342560', 'exchangeTimezoneName': 'America/New_York', 'exchangeTimezoneShortName': 'EST', 'gmtOffSetMilliseconds': -18000000, 'market': 'us_market', 'esgPopulated': False, 'regularMarketChangePercent': -2.2929, 'regularMarketPrice': 26.42, 'longName': 'GameStop Corp.', 'hasPrePostMarketData': True, 'firstTradeDateMilliseconds': 1013610600000, 'postMarketChangePercent': -0.075702, 'postMarketPrice': 26.4, 'postMarketChange': -0.0200005, 'regularMarketChange': -0.620001, 'regularMarketDayRange': '26.1553 - 27.58', 'fullExchangeName': 'NYSE', 'averageDailyVolume3Month': 9554705, 'fiftyTwoWeekLowChange': 16.470001, 'fiftyTwoWeekLowChangePercent': 1.6552765, 'fiftyTwoWeekRange': '9.95 - 64.83', 'fiftyTwoWeekHighChange': -38.410004, 'fiftyTwoWeekHighChangePercent': -0.5924727, 'fiftyTwoWeekChangePercent': 93.128654, 'dividendDate': 1529971200, 'earningsTimestamp': 1733864709, 'earningsTimestampStart': 1742813940, 'earningsTimestampEnd': 1743163200, 'isEarningsDateEstimate': True, 'epsTrailingTwelveMonths': 0.2, 'epsForward': -0.01, 'epsCurrentYear': 0.07, 'priceEpsCurrentYear': 377.42856, 'fiftyDayAverageChange': -2.1564007, 'fiftyDayAverageChangePercent': -0.07546089, 'twoHundredDayAverageChange': 1.3046494, 'twoHundredDayAverageChangePercent': 0.051946294, 'sourceInterval': 15, 'exchangeDataDelayedBy': 0, 'marketState': 'CLOSED', 'cryptoTradeable': False, 'displayName': 'GameStop', 'trailingPegRatio': None}\n"
          ]
        }
      ],
      "source": [
        "import yfinance as yf\n",
        "\n",
        "# Create a ticker object for GameStop\n",
        "gme = yf.Ticker(\"GME\")\n",
        "\n",
        "# Display basic information about GameStop\n",
        "print(gme.info)\n"
      ],
      "execution_count": 8
    },
    {
      "cell_type": "markdown",
      "metadata": {
        "id": "1a3427ce-fb0a-4331-9002-73b8a5cdd4bc"
      },
      "source": [
        "Using the ticker object and the function `history` extract stock information and save it in a dataframe named `gme_data`. Set the `period` parameter to ` \"max\" ` so we get information for the maximum amount of time.\n"
      ]
    },
    {
      "cell_type": "code",
      "metadata": {
        "colab": {
          "base_uri": "https://localhost:8080/"
        },
        "id": "d69b6b8f-6591-4b64-b3e3-927d2659c3c9",
        "outputId": "17135cca-a2fc-40f0-a714-e2980b8182d2"
      },
      "outputs": [
        {
          "output_type": "stream",
          "name": "stdout",
          "text": [
            "                               Open      High       Low     Close    Volume  \\\n",
            "Date                                                                          \n",
            "2002-02-13 00:00:00-05:00  1.620128  1.693349  1.603295  1.691666  76216000   \n",
            "2002-02-14 00:00:00-05:00  1.712707  1.716074  1.670626  1.683250  11021600   \n",
            "2002-02-15 00:00:00-05:00  1.683250  1.687458  1.658002  1.674834   8389600   \n",
            "2002-02-19 00:00:00-05:00  1.666418  1.666418  1.578047  1.607504   7410400   \n",
            "2002-02-20 00:00:00-05:00  1.615920  1.662210  1.603296  1.662210   6892800   \n",
            "\n",
            "                           Dividends  Stock Splits  \n",
            "Date                                                \n",
            "2002-02-13 00:00:00-05:00        0.0           0.0  \n",
            "2002-02-14 00:00:00-05:00        0.0           0.0  \n",
            "2002-02-15 00:00:00-05:00        0.0           0.0  \n",
            "2002-02-19 00:00:00-05:00        0.0           0.0  \n",
            "2002-02-20 00:00:00-05:00        0.0           0.0  \n"
          ]
        }
      ],
      "source": [
        "import yfinance as yf\n",
        "\n",
        "# Create a ticker object for GameStop\n",
        "gme = yf.Ticker(\"GME\")\n",
        "\n",
        "# Get historical market data for the maximum available period\n",
        "gme_data = gme.history(period=\"max\")\n",
        "\n",
        "# Display the first five rows of the DataFrame\n",
        "print(gme_data.head())\n"
      ],
      "execution_count": 9
    },
    {
      "cell_type": "markdown",
      "metadata": {
        "id": "33369535-6e9a-414e-91d1-c99a67235d8b"
      },
      "source": [
        "**Reset the index** using the `reset_index(inplace=True)` function on the gme_data DataFrame and display the first five rows of the `gme_data` dataframe using the `head` function. Take a screenshot of the results and code from the beginning of Question 3 to the results below.\n"
      ]
    },
    {
      "cell_type": "code",
      "metadata": {
        "colab": {
          "base_uri": "https://localhost:8080/"
        },
        "id": "84c5a2a9-3f58-4021-ab0f-e66c1ef45375",
        "outputId": "ae9bade9-4533-4994-e0e5-0b78bede803c"
      },
      "outputs": [
        {
          "output_type": "stream",
          "name": "stdout",
          "text": [
            "                       Date      Open      High       Low     Close    Volume  \\\n",
            "0 2002-02-13 00:00:00-05:00  1.620128  1.693350  1.603296  1.691666  76216000   \n",
            "1 2002-02-14 00:00:00-05:00  1.712707  1.716074  1.670626  1.683250  11021600   \n",
            "2 2002-02-15 00:00:00-05:00  1.683250  1.687458  1.658002  1.674834   8389600   \n",
            "3 2002-02-19 00:00:00-05:00  1.666417  1.666417  1.578047  1.607504   7410400   \n",
            "4 2002-02-20 00:00:00-05:00  1.615921  1.662210  1.603296  1.662210   6892800   \n",
            "\n",
            "   Dividends  Stock Splits  \n",
            "0        0.0           0.0  \n",
            "1        0.0           0.0  \n",
            "2        0.0           0.0  \n",
            "3        0.0           0.0  \n",
            "4        0.0           0.0  \n"
          ]
        }
      ],
      "source": [
        "import yfinance as yf\n",
        "\n",
        "# Step 1: Create a ticker object for GameStop\n",
        "gme = yf.Ticker(\"GME\")\n",
        "\n",
        "# Step 2: Get historical market data for the maximum available period\n",
        "gme_data = gme.history(period=\"max\")\n",
        "\n",
        "# Step 3: Reset the index\n",
        "gme_data.reset_index(inplace=True)\n",
        "\n",
        "# Step 4: Display the first five rows\n",
        "print(gme_data.head())\n"
      ],
      "execution_count": 10
    },
    {
      "cell_type": "markdown",
      "metadata": {
        "id": "6df06c4b-d13b-435b-ab95-5fb77ac56221"
      },
      "source": [
        "## Question 4: Use Webscraping to Extract GME Revenue Data\n"
      ]
    },
    {
      "cell_type": "markdown",
      "metadata": {
        "id": "cd219971-5159-4910-97b6-40455f1856c9"
      },
      "source": [
        "Use the `requests` library to download the webpage https://cf-courses-data.s3.us.cloud-object-storage.appdomain.cloud/IBMDeveloperSkillsNetwork-PY0220EN-SkillsNetwork/labs/project/stock.html. Save the text of the response as a variable named `html_data_2`.\n"
      ]
    },
    {
      "cell_type": "code",
      "metadata": {
        "colab": {
          "base_uri": "https://localhost:8080/"
        },
        "id": "414a1fee-aa95-4f80-a96b-50c4a8c4e3f6",
        "outputId": "ba1bf24a-c8f7-47d3-c050-605d73bd0ac0"
      },
      "outputs": [
        {
          "output_type": "stream",
          "name": "stdout",
          "text": [
            "<!DOCTYPE html>\n",
            "<!-- saved from url=(0105)https://web.archive.org/web/20200814131437/https://www.macrotrends.net/stocks/charts/GME/gamestop/revenue -->\n",
            "<html class=\" js flexbox canvas canvastext webgl no-touch geolocation postmessage websqldatabase indexeddb hashchange history draganddrop websockets rgba hsla multiplebgs backgroundsize borderimage borderradius boxshadow textshadow opacity cssanimations csscolumns cssgradients cssreflections csstransforms csstransforms3d csstransitions fontface g\n"
          ]
        }
      ],
      "source": [
        "import requests\n",
        "\n",
        "# URL of the webpage containing GameStop revenue data\n",
        "url = \"https://cf-courses-data.s3.us.cloud-object-storage.appdomain.cloud/IBMDeveloperSkillsNetwork-PY0220EN-SkillsNetwork/labs/project/stock.html\"\n",
        "\n",
        "# Send an HTTP request to fetch the webpage\n",
        "response = requests.get(url)\n",
        "\n",
        "# Save the response text in a variable\n",
        "html_data_2 = response.text\n",
        "\n",
        "# Print the first 500 characters to check the data\n",
        "print(html_data_2[:500])\n"
      ],
      "execution_count": 11
    },
    {
      "cell_type": "markdown",
      "metadata": {
        "id": "dec79a53-bc1c-44ea-8935-bfe108224daf"
      },
      "source": [
        "Parse the html data using `beautiful_soup` using parser i.e `html5lib` or `html.parser`.\n"
      ]
    },
    {
      "cell_type": "code",
      "metadata": {
        "colab": {
          "base_uri": "https://localhost:8080/"
        },
        "id": "75d91fbf-03d1-48c4-9f97-5c95956ab289",
        "outputId": "1e89c55e-989e-4f9d-a864-a2d600d03453"
      },
      "outputs": [
        {
          "output_type": "stream",
          "name": "stdout",
          "text": [
            "<!DOCTYPE html>\n",
            "<!-- saved from url=(0105)https://web.archive.org/web/20200814131437/https://www.macrotrends.net/stocks/charts/GME/gamestop/revenue -->\n",
            "<html class=\"js flexbox canvas canvastext webgl no-touch geolocation postmessage websqldatabase indexeddb hashchange history draganddrop websockets rgba hsla multiplebgs backgroundsize borderimage borderradius boxshadow textshadow opacity cssanimations csscolumns cssgradients cssreflections csstransforms csstransforms3d csstransitions fontface ge\n"
          ]
        }
      ],
      "source": [
        "from bs4 import BeautifulSoup\n",
        "\n",
        "# Step 1: Parse the HTML data using BeautifulSoup\n",
        "soup_2 = BeautifulSoup(html_data_2, \"html.parser\")  # You can also use \"html5lib\"\n",
        "\n",
        "# Step 2: Print the first 500 characters of the parsed HTML\n",
        "print(soup_2.prettify()[:500])\n"
      ],
      "execution_count": 12
    },
    {
      "cell_type": "markdown",
      "metadata": {
        "id": "1475392e-d438-4dcc-ba6d-32a455b5a050"
      },
      "source": [
        "Using `BeautifulSoup` or the `read_html` function extract the table with `GameStop Revenue` and store it into a dataframe named `gme_revenue`. The dataframe should have columns `Date` and `Revenue`. Make sure the comma and dollar sign is removed from the `Revenue` column.\n"
      ]
    },
    {
      "cell_type": "markdown",
      "metadata": {
        "id": "3a6c2e7a-83a6-4519-ac50-f922dff88b1c"
      },
      "source": [
        "> **Note: Use the method similar to what you did in question 2.**  \n"
      ]
    },
    {
      "cell_type": "markdown",
      "metadata": {
        "id": "38df1400-0b9d-4cd7-a57f-22d27fc79bbf"
      },
      "source": [
        "<details><summary>Click here if you need help locating the table</summary>\n",
        "\n",
        "```\n",
        "    \n",
        "Below is the code to isolate the table, you will now need to loop through the rows and columns like in the previous lab\n",
        "    \n",
        "soup.find_all(\"tbody\")[1]\n",
        "    \n",
        "If you want to use the read_html function the table is located at index 1\n",
        "\n",
        "\n",
        "```\n",
        "\n",
        "</details>\n"
      ]
    },
    {
      "cell_type": "code",
      "metadata": {
        "colab": {
          "base_uri": "https://localhost:8080/"
        },
        "id": "fdbbf8b0-5214-4d25-b024-70ca4e49982c",
        "outputId": "f16561b4-77ca-42b4-ba66-8e35e1a6c7b4"
      },
      "outputs": [
        {
          "output_type": "stream",
          "name": "stdout",
          "text": [
            "Table 0 Preview:\n",
            "    GameStop Annual Revenue (Millions of US $)  \\\n",
            "0                                        2020   \n",
            "1                                        2019   \n",
            "2                                        2018   \n",
            "3                                        2017   \n",
            "4                                        2016   \n",
            "\n",
            "  GameStop Annual Revenue (Millions of US $).1  \n",
            "0                                       $6,466  \n",
            "1                                       $8,285  \n",
            "2                                       $8,547  \n",
            "3                                       $7,965  \n",
            "4                                       $9,364   \n",
            "\n",
            "Table 1 Preview:\n",
            "   GameStop Quarterly Revenue (Millions of US $)  \\\n",
            "0                                    2020-04-30   \n",
            "1                                    2020-01-31   \n",
            "2                                    2019-10-31   \n",
            "3                                    2019-07-31   \n",
            "4                                    2019-04-30   \n",
            "\n",
            "  GameStop Quarterly Revenue (Millions of US $).1  \n",
            "0                                          $1,021  \n",
            "1                                          $2,194  \n",
            "2                                          $1,439  \n",
            "3                                          $1,286  \n",
            "4                                          $1,548   \n",
            "\n",
            "Table 2 Preview:\n",
            "                                               Sector  \\\n",
            "0                                   Retail/Wholesale   \n",
            "1  GameStop Corp. is the world's largest video ga...   \n",
            "\n",
            "                                            Industry  \\\n",
            "0                      Retail - Consumer Electronics   \n",
            "1  GameStop Corp. is the world's largest video ga...   \n",
            "\n",
            "                                          Market Cap  \\\n",
            "0                                            $0.293B   \n",
            "1  GameStop Corp. is the world's largest video ga...   \n",
            "\n",
            "                                             Revenue  \n",
            "0                                            $6.466B  \n",
            "1  GameStop Corp. is the world's largest video ga...   \n",
            "\n",
            "Table 3 Preview:\n",
            "                      Stock Name        Country Market Cap  PE Ratio\n",
            "0                Best Buy (BBY)  United States   $27.033B     18.16\n",
            "1                Aaron's, (AAN)  United States    $3.975B     15.14\n",
            "2  GOME Retail Holdings (GMELY)          China    $1.684B      0.00\n",
            "3                Systemax (SYX)  United States    $0.873B     18.34\n",
            "4                 Conn's (CONN)  United States    $0.325B      0.00 \n",
            "\n",
            "Table 4 Preview:\n",
            "                        Link Preview  HTML Code (Click to Copy)\n",
            "0  GameStop Revenue 2006-2020 | GME                        NaN\n",
            "1                       Macrotrends                        NaN\n",
            "2                            Source                        NaN \n",
            "\n",
            "Table 5 Preview:\n",
            "                        Link Preview  HTML Code (Click to Copy)\n",
            "0  GameStop Revenue 2006-2020 | GME                        NaN\n",
            "1                       Macrotrends                        NaN\n",
            "2                            Source                        NaN \n",
            "\n",
            "         Date Revenue\n",
            "0  2020-04-30    1021\n",
            "1  2020-01-31    2194\n",
            "2  2019-10-31    1439\n",
            "3  2019-07-31    1286\n",
            "4  2019-04-30    1548\n"
          ]
        },
        {
          "output_type": "stream",
          "name": "stderr",
          "text": [
            "<ipython-input-13-3661988704e3>:14: FutureWarning: Passing literal html to 'read_html' is deprecated and will be removed in a future version. To read from a literal string, wrap it in a 'StringIO' object.\n",
            "  tables = pd.read_html(str(soup_2))  # Convert soup object to string for pandas\n"
          ]
        }
      ],
      "source": [
        "import requests\n",
        "import pandas as pd\n",
        "from bs4 import BeautifulSoup\n",
        "\n",
        "# Step 1: Fetch the HTML page\n",
        "url = \"https://cf-courses-data.s3.us.cloud-object-storage.appdomain.cloud/IBMDeveloperSkillsNetwork-PY0220EN-SkillsNetwork/labs/project/stock.html\"\n",
        "response = requests.get(url)\n",
        "html_data_2 = response.text  # Save HTML content\n",
        "\n",
        "# Step 2: Parse HTML using BeautifulSoup\n",
        "soup_2 = BeautifulSoup(html_data_2, \"html.parser\")\n",
        "\n",
        "# Step 3: Extract tables using pandas\n",
        "tables = pd.read_html(str(soup_2))  # Convert soup object to string for pandas\n",
        "\n",
        "# Step 4: Identify the correct table\n",
        "for i, table in enumerate(tables):\n",
        "    print(f\"Table {i} Preview:\\n\", table.head(), \"\\n\")  # Check the tables\n",
        "\n",
        "# Select the correct GameStop Revenue table (usually index 1 or 0)\n",
        "gme_revenue = tables[1]  # Adjust index if needed\n",
        "\n",
        "# Step 5: Rename columns to 'Date' and 'Revenue'\n",
        "gme_revenue.columns = [\"Date\", \"Revenue\"]\n",
        "\n",
        "# Step 6: Clean Revenue Column - Remove commas and dollar signs\n",
        "gme_revenue[\"Revenue\"] = gme_revenue[\"Revenue\"].str.replace(',|\\$', \"\", regex=True)\n",
        "\n",
        "# Step 7: Remove null or empty values\n",
        "gme_revenue.dropna(inplace=True)\n",
        "gme_revenue = gme_revenue[gme_revenue[\"Revenue\"] != \"\"]\n",
        "\n",
        "# Step 8: Display first five rows\n",
        "print(gme_revenue.head())\n"
      ],
      "execution_count": 13
    },
    {
      "cell_type": "markdown",
      "metadata": {
        "id": "284b74d5-adc5-46bd-8873-e49d8e66f00e"
      },
      "source": [
        "Display the last five rows of the `gme_revenue` dataframe using the `tail` function. Take a screenshot of the results.\n"
      ]
    },
    {
      "cell_type": "code",
      "metadata": {
        "colab": {
          "base_uri": "https://localhost:8080/"
        },
        "id": "91b7c016-b29e-4b7b-839c-38b5affd6c14",
        "outputId": "1cb273ea-f2a1-4582-9064-476e588ef0b5"
      },
      "outputs": [
        {
          "output_type": "stream",
          "name": "stdout",
          "text": [
            "          Date Revenue\n",
            "57  2006-01-31    1667\n",
            "58  2005-10-31     534\n",
            "59  2005-07-31     416\n",
            "60  2005-04-30     475\n",
            "61  2005-01-31     709\n"
          ]
        }
      ],
      "source": [
        "# Display the last five rows of the gme_revenue dataframe\n",
        "print(gme_revenue.tail())\n"
      ],
      "execution_count": 14
    },
    {
      "cell_type": "markdown",
      "metadata": {
        "id": "a7bd24f7-3543-4bd0-99eb-23c89a19fa15"
      },
      "source": [
        "## Question 5: Plot Tesla Stock Graph\n"
      ]
    },
    {
      "cell_type": "markdown",
      "metadata": {
        "id": "bb754ba9-57d5-4296-9a75-0dffb23a1a0e"
      },
      "source": [
        "Use the `make_graph` function to graph the Tesla Stock Data, also provide a title for the graph. Note the graph will only show data upto June 2021.\n"
      ]
    },
    {
      "cell_type": "markdown",
      "metadata": {
        "id": "ddca0f8a-73f4-4356-a3b4-2c6522456532"
      },
      "source": [
        "<details><summary>Hint</summary>\n",
        "\n",
        "```\n",
        "\n",
        "You just need to invoke the make_graph function with the required parameter to print the graphs.The structure to call the `make_graph` function is `make_graph(tesla_data, tesla_revenue, 'Tesla')`.\n",
        "\n",
        "```\n",
        "    \n",
        "</details>\n"
      ]
    },
    {
      "cell_type": "code",
      "metadata": {
        "colab": {
          "base_uri": "https://localhost:8080/",
          "height": 564
        },
        "id": "c837bc34-4f96-4de5-818f-84b6c567c7f8",
        "outputId": "376bf805-e473-4fca-e22a-9da57f078603"
      },
      "outputs": [
        {
          "output_type": "display_data",
          "data": {
            "text/plain": [
              "<Figure size 1200x600 with 1 Axes>"
            ],
            "image/png": "[encoded data removed]"
          },
          "metadata": {}
        }
      ],
      "source": [
        "import matplotlib.pyplot as plt\n",
        "\n",
        "# Function to plot stock data\n",
        "def make_graph(stock_data, title):\n",
        "    plt.figure(figsize=(12, 6))\n",
        "    plt.plot(stock_data['Date'], stock_data['Close'], label=\"Closing Price\", color='blue')\n",
        "    plt.xlabel(\"Date\")\n",
        "    plt.ylabel(\"Stock Price (USD)\")\n",
        "    plt.title(title)\n",
        "    plt.legend()\n",
        "    plt.grid()\n",
        "    plt.show()\n",
        "\n",
        "# Filter Tesla stock data up to June 2021\n",
        "tesla_data_filtered = tesla_data[tesla_data['Date'] <= \"2021-06-30\"]\n",
        "\n",
        "# Plot the Tesla stock graph\n",
        "make_graph(tesla_data_filtered, \"Tesla Stock Price (Up to June 2021)\")\n"
      ],
      "execution_count": 15
    },
    {
      "cell_type": "markdown",
      "metadata": {
        "id": "7958abf8-866f-41e9-9980-eeacd923e8f9"
      },
      "source": [
        "## Question 6: Plot GameStop Stock Graph\n"
      ]
    },
    {
      "cell_type": "markdown",
      "metadata": {
        "id": "b37160b6-f8f7-4d44-9c44-11871ec8d70d"
      },
      "source": [
        "Use the `make_graph` function to graph the GameStop Stock Data, also provide a title for the graph. The structure to call the `make_graph` function is `make_graph(gme_data, gme_revenue, 'GameStop')`. Note the graph will only show data upto June 2021.\n"
      ]
    },
    {
      "cell_type": "markdown",
      "metadata": {
        "id": "3d6e3fda-269a-473f-b20e-34692f1ffb3c"
      },
      "source": [
        "<details><summary>Hint</summary>\n",
        "\n",
        "```\n",
        "\n",
        "You just need to invoke the make_graph function with the required parameter to print the graphs.The structure to call the `make_graph` function is `make_graph(gme_data, gme_revenue, 'GameStop')`\n",
        "\n",
        "```\n",
        "    \n",
        "</details>\n"
      ]
    },
    {
      "cell_type": "code",
      "metadata": {
        "colab": {
          "base_uri": "https://localhost:8080/",
          "height": 564
        },
        "id": "a71e1227-ad38-45ad-885a-eec6be79e626",
        "outputId": "cf5724c0-31d5-4406-b00e-78ae60045cc7"
      },
      "outputs": [
        {
          "output_type": "display_data",
          "data": {
            "text/plain": [
              "<Figure size 1200x600 with 1 Axes>"
            ],
            "image/png": "[encoded data removed]"
          },
          "metadata": {}
        }
      ],
      "source": [
        "import matplotlib.pyplot as plt\n",
        "\n",
        "# Function to plot stock data\n",
        "def make_graph(stock_data, title):\n",
        "    plt.figure(figsize=(12, 6))\n",
        "    plt.plot(stock_data['Date'], stock_data['Close'], label=\"Closing Price\", color='red')\n",
        "    plt.xlabel(\"Date\")\n",
        "    plt.ylabel(\"Stock Price (USD)\")\n",
        "    plt.title(title)\n",
        "    plt.legend()\n",
        "    plt.grid()\n",
        "    plt.show()\n",
        "\n",
        "# Filter GameStop stock data up to June 2021\n",
        "gme_data_filtered = gme_data[gme_data['Date'] <= \"2021-06-30\"]\n",
        "\n",
        "# Plot the GameStop stock graph\n",
        "make_graph(gme_data_filtered, \"GameStop Stock Price (Up to June 2021)\")\n"
      ],
      "execution_count": 16
    },
    {
      "cell_type": "markdown",
      "metadata": {
        "id": "4b893c54-6986-48ea-9b93-5fb0273b58c9"
      },
      "source": [
        "<h2>About the Authors:</h2>\n",
        "\n",
        "<a href=\"https://www.linkedin.com/in/joseph-s-50398b136/\">Joseph Santarcangelo</a> has a PhD in Electrical Engineering, his research focused on using machine learning, signal processing, and computer vision to determine how videos impact human cognition. Joseph has been working for IBM since he completed his PhD.\n",
        "\n",
        "Azim Hirjani\n"
      ]
    },
    {
      "cell_type": "markdown",
      "metadata": {
        "id": "6aef7848-21bd-46fb-a019-ba83384f7ee2"
      },
      "source": [
        "## Change Log\n",
        "\n",
        "| Date (YYYY-MM-DD) | Version | Changed By    | Change Description        |\n",
        "| ----------------- | ------- | ------------- | ------------------------- |\n",
        "| 2022-02-28        | 1.2     | Lakshmi Holla | Changed the URL of GameStop |\n",
        "| 2020-11-10        | 1.1     | Malika Singla | Deleted the Optional part |\n",
        "| 2020-08-27        | 1.0     | Malika Singla | Added lab to GitLab       |\n",
        "\n",
        "<hr>\n",
        "\n",
        "## <h3 align=\"center\"> © IBM Corporation 2020. All rights reserved. <h3/>\n",
        "\n",
        "<p>\n"
      ]
    }
  ],
  "metadata": {
    "kernelspec": {
      "name": "python3",
      "display_name": "Python 3 (ipykernel)",
      "language": "python"
    },
    "language_info": {
      "name": "python",
      "version": "3.11.9",
      "mimetype": "text/x-python",
      "codemirror_mode": {
        "name": "ipython",
        "version": 3
      },
      "pygments_lexer": "ipython3",
      "nbconvert_exporter": "python",
      "file_extension": ".py"
    },
    "prev_pub_hash": "847bbe99ddd9f2dc606aa9f731e386824fa521d0c7e38672c5f080f5d71a8326",
    "colab": {
      "provenance": [],
      "include_colab_link": true
    }
  },
  "nbformat": 4,
  "nbformat_minor": 0
}